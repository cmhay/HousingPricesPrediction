{
 "cells": [
  {
   "cell_type": "code",
   "execution_count": 2,
   "id": "b85cab62-9f84-4cf4-ae93-7a27d759f136",
   "metadata": {},
   "outputs": [],
   "source": [
    "# used for manipulating directory paths\n",
    "import os\n",
    "\n",
    "# Scientific and vector computation for python\n",
    "import numpy as np\n",
    "\n",
    "# Plotting library\n",
    "import matplotlib.pyplot as plt\n",
    "\n",
    "import pandas as pd\n",
    "\n",
    "# tells matplotlib to embed plots within the notebook\n",
    "%matplotlib inline"
   ]
  },
  {
   "cell_type": "markdown",
   "id": "f59efc12-8153-46b8-b413-d08885e18797",
   "metadata": {},
   "source": [
    "# Numerical Data only test\n",
    "\n",
    "### Import the training dataset and Feature engineering"
   ]
  },
  {
   "cell_type": "code",
   "execution_count": 35,
   "id": "05522e28-c7d0-41c9-9729-986f58f65405",
   "metadata": {},
   "outputs": [
    {
     "name": "stdout",
     "output_type": "stream",
     "text": [
      "data shape (1460, 37)\n"
     ]
    },
    {
     "data": {
      "text/plain": [
       "array([[1.000e+00, 6.000e+01, 6.500e+01, ..., 0.000e+00, 2.000e+00,\n",
       "        2.008e+03],\n",
       "       [1.000e+00, 2.000e+01, 8.000e+01, ..., 0.000e+00, 5.000e+00,\n",
       "        2.007e+03],\n",
       "       [1.000e+00, 6.000e+01, 6.800e+01, ..., 0.000e+00, 9.000e+00,\n",
       "        2.008e+03],\n",
       "       ...,\n",
       "       [1.000e+00, 7.000e+01, 6.600e+01, ..., 2.500e+03, 5.000e+00,\n",
       "        2.010e+03],\n",
       "       [1.000e+00, 2.000e+01, 6.800e+01, ..., 0.000e+00, 4.000e+00,\n",
       "        2.010e+03],\n",
       "       [1.000e+00, 2.000e+01, 7.500e+01, ..., 0.000e+00, 6.000e+00,\n",
       "        2.008e+03]])"
      ]
     },
     "execution_count": 35,
     "metadata": {},
     "output_type": "execute_result"
    }
   ],
   "source": [
    "# import training CSV\n",
    "fname = './data/train.csv'\n",
    "# use pandas to read the CSV properly of all different types\n",
    "data_pd = pd.read_csv(fname)\n",
    "# convert to a numpy array\n",
    "data = np.array(data_pd)\n",
    "# remove categorical data\n",
    "done = False\n",
    "i = 0\n",
    "while(not done):\n",
    "\n",
    "    if i != data.shape[1]:\n",
    "        #print(type(data[:,i][0]))\n",
    "        #check to see if column contains a string\n",
    "        contains_string = False\n",
    "        for val in data[:,i]:\n",
    "            if type(val) == str:\n",
    "                contains_string = True\n",
    "        if contains_string:\n",
    "            data = np.delete(data, i, 1)\n",
    "            continue\n",
    "        else:\n",
    "            i += 1\n",
    "    else:\n",
    "        done = True\n",
    "# remove outliers with standard deviation TODO()\n",
    "\n",
    "# replace example # column with 1's intercept column\n",
    "data[:,0] = np.ones(data.shape[0])\n",
    "# take the actual prices and add them to results y\n",
    "y = data[:, data.shape[1] - 1]\n",
    "# remove prices column from data\n",
    "data = np.delete(data, data.shape[1] - 1, 1)\n",
    "data = data.astype(float)\n",
    "print(\"data shape\", data.shape)\n",
    "data"
   ]
  },
  {
   "cell_type": "markdown",
   "id": "3f3c5d6c-5507-4aa7-80f6-028bf8e3febc",
   "metadata": {},
   "source": [
    "### Normal Equation and Polynomial Regression Functions"
   ]
  },
  {
   "cell_type": "markdown",
   "id": "72e5b8b4",
   "metadata": {},
   "source": [
    "### 3.2 Normal equation\n",
    "\n",
    "We have learned that the closed-form solution to linear regression is\n",
    "\n",
    "$$ \\theta = \\left( X^T X\\right)^{-1} X^T\\vec{y}$$\n",
    "\n",
    "Using this formula does not require any feature scaling, and you will get an exact solution in one calculation: there is no “loop until convergence” like in gradient descent. \n",
    "\n",
    "Hint: Before implement normal_equation function, following example shows how to convert array data to a matrix with a shape of $m \\times 1$, and generate polynomial features matrix $[1, X, X^2, X^3, \\cdots]$. "
   ]
  },
  {
   "cell_type": "code",
   "execution_count": 31,
   "id": "c49d8500-f26a-4186-9048-1b4bfdbd53c2",
   "metadata": {},
   "outputs": [],
   "source": [
    "# [CHECKPOINT 2][10 points]\n",
    "def normal_equation(X, Y, n):\n",
    "    \"\"\"\n",
    "    Computes the closed-form solution to linear regression using the normal equations.\n",
    "    \n",
    "    Parameters\n",
    "    ----------\n",
    "    X : array_like\n",
    "        The dataset of shape (m, ).\n",
    "    \n",
    "    Y : array_like\n",
    "        The value at each data point. A vector of shape (m, ).\n",
    "        \n",
    "    n : the order of polynomial regression model\n",
    "        Remember the number of features will be n+1.\n",
    "    \n",
    "    Returns\n",
    "    -------\n",
    "    theta : array_like\n",
    "        Estimated polynomial regression parameters. A vector of shape (n+1, ).\n",
    "    \n",
    "    Instructions\n",
    "    ------------\n",
    "    Complete the code to compute the closed form solution to linear\n",
    "    regression and put the result in theta.\n",
    "    \n",
    "    Hint\n",
    "    ----\n",
    "    Look up the function `np.linalg.pinv` for computing matrix inverse.\n",
    "    \"\"\"\n",
    "    #print(\"Normal equation start\")\n",
    "    #print(\"n: \", n)\n",
    "    m = X.size\n",
    "    print(\"m: \", m)\n",
    "    theta = np.zeros(n+1)\n",
    "    #print(\"theta: \", theta)\n",
    "    \n",
    "    # ===================== YOUR CODE HERE ============================\n",
    "    X_t = np.transpose(X)\n",
    "    \n",
    "    '''X_col = X[:m].reshape(m,1)\n",
    "    #print(\"X_col: \\n\", X_col)\n",
    "    #print(\"X_col size:\", X_col.shape)\n",
    "    X_poly = np.power(X_col, np.arange(n+1))\n",
    "    #print(\"X poly powered: \\n\", X_poly)\n",
    "    #ones = np.ones(m).reshape(m, 1)\n",
    "    #X_poly = np.append(ones, X_poly, axis = 1)\n",
    "    #print(\"X poly ones appended: \\n\", X_poly)\n",
    "    #transposing\n",
    "    X_t = np.transpose(X_poly)\n",
    "    #print(\"X_poly transpose: \\n\", X_t)\n",
    "    #finding dot product\n",
    "    X_poly = X_t.dot(X_poly)\n",
    "    #print(\"Multiplied by transpose: \\n\", X_poly)\n",
    "    #taking inverse\n",
    "    X_poly = np.linalg.pinv(X_poly)\n",
    "    #print(\"inverse: \\n\", X_poly)\n",
    "    #dot product with transpose again\n",
    "    X_poly = X_poly.dot(X_t)\n",
    "    #print(\"X poly by transpose: \\n\", X_poly)\n",
    "    #print(\"X shape: \", X_poly.shape, \"Y shape: \", Y.shape)\n",
    "    X_poly = X_poly.dot(Y)\n",
    "    #print(\"X poly by y: \\n\", X_poly)\n",
    "    theta = X_poly    '''\n",
    "    # =================================================================\n",
    "    return theta.flatten()"
   ]
  },
  {
   "cell_type": "code",
   "execution_count": 32,
   "id": "82960d13-6117-4438-b17c-5b5cb7f2c1b3",
   "metadata": {},
   "outputs": [],
   "source": [
    "# [CHECKPOINT 3][5 points]\n",
    "def polynomial_deploy(X, theta):\n",
    "    \"\"\"\n",
    "    Computes the polynomial regression prediction for data X.\n",
    "    \n",
    "    Parameters\n",
    "    ----------\n",
    "    X : array_like\n",
    "        The input data. A vector of shape (m, ).\n",
    "    \n",
    "    theta : array_like\n",
    "        Polynomial regression parameters. A vector of shape (n+1, ).\n",
    "    \n",
    "    Returns\n",
    "    -------\n",
    "    Y : array_like\n",
    "        Polynomial prediction. A vector of shape (m, ).\n",
    "    \n",
    "    \"\"\"\n",
    "    #print(\"Begin polynomial deploy\")\n",
    "    m = X.size\n",
    "    n = theta.size - 1\n",
    "    Y = np.array([])\n",
    "    \n",
    "    # ===================== YOUR CODE HERE ============================\n",
    "    #print(\"theta: \", theta)\n",
    "    \n",
    "    #print(\"X size\", X.shape)\n",
    "    X_col = X_data[:m].reshape(m,1)\n",
    "    \n",
    "    for i in range(m): #for each data point\n",
    "        prediction = 0\n",
    "        for j in range(n+1): #for each degree\n",
    "            prediction += (theta[j] * X[i] ** j) \n",
    "            #print(\"theta: \", theta[j], \"X val: \", X[i])\n",
    "        #print(\"prediction for X: \", X[i], \" is: \", prediction)\n",
    "        Y = np.append(Y, prediction)\n",
    "            \n",
    "    #print(\"X poly size: \", X_poly.shape)\n",
    "    \n",
    "    # ===================== YOUR CODE HERE ============================\n",
    "    return Y.flatten()"
   ]
  },
  {
   "cell_type": "code",
   "execution_count": 33,
   "id": "bfabbad7-5425-4e01-a214-9186567002bc",
   "metadata": {},
   "outputs": [],
   "source": [
    "#MSE helper func\n",
    "def MSE_func(m, hypothesis, actual):\n",
    "    MSE = 0\n",
    "    for i in range(m):\n",
    "            MSE += (hypothesis[i] - actual[i]) ** 2\n",
    "    return MSE"
   ]
  },
  {
   "cell_type": "markdown",
   "id": "60048f51-9769-47e6-9dc5-441f12755d1f",
   "metadata": {},
   "source": [
    "### Polynomial Function Predictions and MSE"
   ]
  },
  {
   "cell_type": "code",
   "execution_count": 34,
   "id": "496171eb-30f9-4704-a827-c54248b50385",
   "metadata": {},
   "outputs": [
    {
     "name": "stdout",
     "output_type": "stream",
     "text": [
      "m:  54020\n",
      "X_col: \n",
      " [[1.000e+00]\n",
      " [6.000e+01]\n",
      " [6.500e+01]\n",
      " ...\n",
      " [0.000e+00]\n",
      " [6.000e+00]\n",
      " [2.008e+03]]\n",
      "X_col size: (54020, 1)\n"
     ]
    },
    {
     "ename": "ValueError",
     "evalue": "shapes (2,54020) and (1460,) not aligned: 54020 (dim 1) != 1460 (dim 0)",
     "output_type": "error",
     "traceback": [
      "\u001b[1;31m---------------------------------------------------------------------------\u001b[0m",
      "\u001b[1;31mValueError\u001b[0m                                Traceback (most recent call last)",
      "\u001b[1;32m<ipython-input-34-f1033b47ca78>\u001b[0m in \u001b[0;36m<module>\u001b[1;34m\u001b[0m\n\u001b[0;32m      1\u001b[0m \u001b[0mn\u001b[0m \u001b[1;33m=\u001b[0m \u001b[1;36m1\u001b[0m\u001b[1;33m\u001b[0m\u001b[1;33m\u001b[0m\u001b[0m\n\u001b[0;32m      2\u001b[0m \u001b[0mX_data\u001b[0m \u001b[1;33m=\u001b[0m \u001b[0mdata\u001b[0m\u001b[1;33m\u001b[0m\u001b[1;33m\u001b[0m\u001b[0m\n\u001b[1;32m----> 3\u001b[1;33m \u001b[0mtheta\u001b[0m \u001b[1;33m=\u001b[0m \u001b[0mnormal_equation\u001b[0m\u001b[1;33m(\u001b[0m\u001b[0mX_data\u001b[0m\u001b[1;33m,\u001b[0m \u001b[0my\u001b[0m\u001b[1;33m,\u001b[0m \u001b[0mn\u001b[0m\u001b[1;33m)\u001b[0m\u001b[1;33m\u001b[0m\u001b[1;33m\u001b[0m\u001b[0m\n\u001b[0m\u001b[0;32m      4\u001b[0m \u001b[0mprint\u001b[0m\u001b[1;33m(\u001b[0m\u001b[1;34m\"theta x set: \"\u001b[0m\u001b[1;33m,\u001b[0m \u001b[0mtheta\u001b[0m\u001b[1;33m)\u001b[0m\u001b[1;33m\u001b[0m\u001b[1;33m\u001b[0m\u001b[0m\n\u001b[0;32m      5\u001b[0m \u001b[0mprediction\u001b[0m \u001b[1;33m=\u001b[0m \u001b[0mpolynomial_deploy\u001b[0m\u001b[1;33m(\u001b[0m\u001b[0mX_data\u001b[0m\u001b[1;33m,\u001b[0m \u001b[0mtheta\u001b[0m\u001b[1;33m)\u001b[0m\u001b[1;33m\u001b[0m\u001b[1;33m\u001b[0m\u001b[0m\n",
      "\u001b[1;32m<ipython-input-31-41dd06036e34>\u001b[0m in \u001b[0;36mnormal_equation\u001b[1;34m(X, Y, n)\u001b[0m\n\u001b[0;32m     58\u001b[0m     \u001b[1;31m#print(\"X poly by transpose: \\n\", X_poly)\u001b[0m\u001b[1;33m\u001b[0m\u001b[1;33m\u001b[0m\u001b[1;33m\u001b[0m\u001b[0m\n\u001b[0;32m     59\u001b[0m     \u001b[1;31m#print(\"X shape: \", X_poly.shape, \"Y shape: \", Y.shape)\u001b[0m\u001b[1;33m\u001b[0m\u001b[1;33m\u001b[0m\u001b[1;33m\u001b[0m\u001b[0m\n\u001b[1;32m---> 60\u001b[1;33m     \u001b[0mX_poly\u001b[0m \u001b[1;33m=\u001b[0m \u001b[0mX_poly\u001b[0m\u001b[1;33m.\u001b[0m\u001b[0mdot\u001b[0m\u001b[1;33m(\u001b[0m\u001b[0mY\u001b[0m\u001b[1;33m)\u001b[0m\u001b[1;33m\u001b[0m\u001b[1;33m\u001b[0m\u001b[0m\n\u001b[0m\u001b[0;32m     61\u001b[0m     \u001b[1;31m#print(\"X poly by y: \\n\", X_poly)\u001b[0m\u001b[1;33m\u001b[0m\u001b[1;33m\u001b[0m\u001b[1;33m\u001b[0m\u001b[0m\n\u001b[0;32m     62\u001b[0m     \u001b[0mtheta\u001b[0m \u001b[1;33m=\u001b[0m \u001b[0mX_poly\u001b[0m\u001b[1;33m\u001b[0m\u001b[1;33m\u001b[0m\u001b[0m\n",
      "\u001b[1;31mValueError\u001b[0m: shapes (2,54020) and (1460,) not aligned: 54020 (dim 1) != 1460 (dim 0)"
     ]
    }
   ],
   "source": [
    "n = 1\n",
    "X_data = data\n",
    "theta = normal_equation(X_data, y, n)\n",
    "print(\"theta x set: \", theta)\n",
    "prediction = polynomial_deploy(X_data, theta)\n",
    "MSE = MSE_func(X_data.size, prediction, y)\n",
    "plt.figure()\n",
    "plt.title('m=%d, n=%d, MSE=%.8f' % (m, n, MSE))\n",
    "plt.plot(X_data, y, 'b+')\n",
    "Y_predict = polynomial_deploy(X_data, theta)\n",
    "plt.plot(X_data, Y_predict, 'r-')\n",
    "print(\"plot complete\")"
   ]
  },
  {
   "cell_type": "code",
   "execution_count": null,
   "id": "f977b8e8-096f-4848-9400-e78f2886192a",
   "metadata": {},
   "outputs": [],
   "source": []
  },
  {
   "cell_type": "code",
   "execution_count": null,
   "id": "7b0c97f0",
   "metadata": {},
   "outputs": [],
   "source": []
  }
 ],
 "metadata": {
  "kernelspec": {
   "display_name": "Python 3",
   "language": "python",
   "name": "python3"
  },
  "language_info": {
   "codemirror_mode": {
    "name": "ipython",
    "version": 3
   },
   "file_extension": ".py",
   "mimetype": "text/x-python",
   "name": "python",
   "nbconvert_exporter": "python",
   "pygments_lexer": "ipython3",
   "version": "3.8.8"
  }
 },
 "nbformat": 4,
 "nbformat_minor": 5
}
