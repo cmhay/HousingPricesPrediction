{
 "cells": [
  {
   "cell_type": "code",
   "execution_count": 33,
   "id": "b85cab62-9f84-4cf4-ae93-7a27d759f136",
   "metadata": {},
   "outputs": [],
   "source": [
    "# used for manipulating directory paths\n",
    "import os\n",
    "\n",
    "# Scientific and vector computation for python\n",
    "import numpy as np\n",
    "\n",
    "# Plotting library\n",
    "import matplotlib.pyplot as plt\n",
    "\n",
    "import pandas as pd\n",
    "\n",
    "# tells matplotlib to embed plots within the notebook\n",
    "%matplotlib inline"
   ]
  },
  {
   "cell_type": "markdown",
   "id": "f59efc12-8153-46b8-b413-d08885e18797",
   "metadata": {},
   "source": [
    "# Numerical Data only test\n",
    "\n",
    "### Import the training dataset and Feature engineering"
   ]
  },
  {
   "cell_type": "code",
   "execution_count": 89,
   "id": "05522e28-c7d0-41c9-9729-986f58f65405",
   "metadata": {},
   "outputs": [
    {
     "data": {
      "text/plain": [
       "array([[1, 60, 65.0, ..., 2, 2008, 208500],\n",
       "       [2, 20, 80.0, ..., 5, 2007, 181500],\n",
       "       [3, 60, 68.0, ..., 9, 2008, 223500],\n",
       "       ...,\n",
       "       [1458, 70, 66.0, ..., 5, 2010, 266500],\n",
       "       [1459, 20, 68.0, ..., 4, 2010, 142125],\n",
       "       [1460, 20, 75.0, ..., 6, 2008, 147500]], dtype=object)"
      ]
     },
     "execution_count": 89,
     "metadata": {},
     "output_type": "execute_result"
    }
   ],
   "source": [
    "# import training CSV\n",
    "fname = './data/train.csv'\n",
    "# use pandas to read the CSV properly of all different types\n",
    "data_pd = pd.read_csv(fname)\n",
    "# convert to a numpy array\n",
    "data = np.array(data_pd)\n",
    "# remove categorical data\n",
    "done = False\n",
    "i = 0\n",
    "while(not done):\n",
    "    #print(type(data[:,i][0]))\n",
    "    if i == data.shape[1]:\n",
    "        done = True\n",
    "    elif type(data[:,i][0]) == str:\n",
    "        data = np.delete(data, i, 1)\n",
    "        continue\n",
    "    else:\n",
    "        i += 1\n",
    "# remove outliers with standard deviation TODO()\n",
    "\n",
    "# replace example # column with 1's intercept column\n",
    "\n",
    "\n",
    "data"
   ]
  }
 ],
 "metadata": {
  "kernelspec": {
   "display_name": "Python 3",
   "language": "python",
   "name": "python3"
  },
  "language_info": {
   "codemirror_mode": {
    "name": "ipython",
    "version": 3
   },
   "file_extension": ".py",
   "mimetype": "text/x-python",
   "name": "python",
   "nbconvert_exporter": "python",
   "pygments_lexer": "ipython3",
   "version": "3.8.8"
  }
 },
 "nbformat": 4,
 "nbformat_minor": 5
}
